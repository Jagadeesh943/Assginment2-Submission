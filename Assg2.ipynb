{
  "nbformat": 4,
  "nbformat_minor": 0,
  "metadata": {
    "colab": {
      "name": "Assg2.ipynb",
      "provenance": [],
      "collapsed_sections": [],
      "authorship_tag": "ABX9TyP+fMv+v8sboDcBxWVztesT",
      "include_colab_link": true
    },
    "kernelspec": {
      "name": "python3",
      "display_name": "Python 3"
    }
  },
  "cells": [
    {
      "cell_type": "markdown",
      "metadata": {
        "id": "view-in-github",
        "colab_type": "text"
      },
      "source": [
        "<a href=\"https://colab.research.google.com/github/Jagadeesh943/Assginment2-Submission/blob/main/Assg2.ipynb\" target=\"_parent\"><img src=\"https://colab.research.google.com/assets/colab-badge.svg\" alt=\"Open In Colab\"/></a>"
      ]
    },
    {
      "cell_type": "code",
      "metadata": {
        "colab": {
          "base_uri": "https://localhost:8080/"
        },
        "id": "tbGC7YbaMfwU",
        "outputId": "d57924a8-8e92-4776-b913-4b3014de7981"
      },
      "source": [
        "altitude=int(input(\"enter altitude\"))\r\n",
        "if altitude<=1000:\r\n",
        "  print(\"safe to land\")\r\n",
        "elif altitude<5000:\r\n",
        "  print(\"come back to altitude 1000ft\")\r\n",
        "else:\r\n",
        "  print(\"turn around\")      \r\n"
      ],
      "execution_count": 59,
      "outputs": [
        {
          "output_type": "stream",
          "text": [
            "enter altitude5400\n",
            "turn around\n"
          ],
          "name": "stdout"
        }
      ]
    }
  ]
}